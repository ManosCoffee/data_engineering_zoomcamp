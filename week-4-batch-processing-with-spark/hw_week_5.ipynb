{
 "cells": [
  {
   "cell_type": "code",
   "execution_count": 25,
   "id": "6645fa6c-4aad-4e6a-82c8-f2e6102cfd31",
   "metadata": {
    "editable": true,
    "slideshow": {
     "slide_type": ""
    },
    "tags": []
   },
   "outputs": [],
   "source": [
    "import pyspark\n",
    "from pyspark.sql import SparkSession\n",
    "\n",
    "spark= SparkSession.builder \\\n",
    "    .master(\"local[*]\") \\\n",
    "    .appName('test') \\\n",
    "    .getOrCreate()\n",
    "        \n"
   ]
  },
  {
   "cell_type": "code",
   "execution_count": null,
   "id": "7ae4c419-a76f-44ef-b557-bee5cd4bd8da",
   "metadata": {},
   "outputs": [],
   "source": [
    "! wget https://d37ci6vzurychx.cloudfront.net/trip-data/yellow_tripdata_2024-10.parquet ./data/hw\n"
   ]
  },
  {
   "cell_type": "code",
   "execution_count": 26,
   "id": "24413655-e144-4f7c-b7e6-d5d7aaf21c7a",
   "metadata": {},
   "outputs": [],
   "source": [
    "df_yellow = spark.read.parquet('data/hw/*.parquet')"
   ]
  },
  {
   "cell_type": "code",
   "execution_count": 27,
   "id": "69825839-f329-47ad-aa66-84f2e1715e0a",
   "metadata": {},
   "outputs": [
    {
     "data": {
      "text/plain": [
       "'3.3.2'"
      ]
     },
     "execution_count": 27,
     "metadata": {},
     "output_type": "execute_result"
    }
   ],
   "source": [
    "spark.version"
   ]
  },
  {
   "cell_type": "code",
   "execution_count": 28,
   "id": "e683824c-368b-453f-b5fb-b09eb6a1745a",
   "metadata": {},
   "outputs": [
    {
     "data": {
      "text/plain": [
       "8"
      ]
     },
     "execution_count": 28,
     "metadata": {},
     "output_type": "execute_result"
    }
   ],
   "source": [
    "df_yellow.rdd.getNumPartitions() # by default as many as the existing CPU cores in local machine"
   ]
  },
  {
   "cell_type": "code",
   "execution_count": 29,
   "id": "50bd8cb9-1d09-4de5-8eeb-bc1f17b2d300",
   "metadata": {},
   "outputs": [],
   "source": [
    "df_yellow = df_yellow.repartition(4)"
   ]
  },
  {
   "cell_type": "code",
   "execution_count": 30,
   "id": "a261b1c6-6e2e-41df-ab31-f86c98f57db9",
   "metadata": {},
   "outputs": [
    {
     "name": "stderr",
     "output_type": "stream",
     "text": [
      "                                                                                "
     ]
    }
   ],
   "source": [
    "df_yellow.write.parquet('data/tmp/', mode = \"overwrite\")"
   ]
  },
  {
   "cell_type": "code",
   "execution_count": 31,
   "id": "d11d49f9-816f-46f9-83cb-e2c130f3a2b1",
   "metadata": {},
   "outputs": [
    {
     "name": "stderr",
     "output_type": "stream",
     "text": [
      "[Stage 24:==================================================>       (7 + 1) / 8]"
     ]
    },
    {
     "data": {
      "text/plain": [
       "4"
      ]
     },
     "execution_count": 31,
     "metadata": {},
     "output_type": "execute_result"
    }
   ],
   "source": [
    "df_yellow.rdd.getNumPartitions()"
   ]
  },
  {
   "cell_type": "code",
   "execution_count": 32,
   "id": "2c5860cd-b314-413c-bfaa-f508a567c0d1",
   "metadata": {},
   "outputs": [
    {
     "name": "stdout",
     "output_type": "stream",
     "text": [
      "total 97M\n",
      "-rw-r--r-- 1 manos manos   0 Mar  1 17:01 _SUCCESS\n",
      "-rw-r--r-- 1 manos manos 25M Mar  1 17:01 part-00000-083252c8-10c0-4e8f-9d0e-2e060a42f247-c000.snappy.parquet\n",
      "-rw-r--r-- 1 manos manos 25M Mar  1 17:01 part-00001-083252c8-10c0-4e8f-9d0e-2e060a42f247-c000.snappy.parquet\n",
      "-rw-r--r-- 1 manos manos 25M Mar  1 17:01 part-00002-083252c8-10c0-4e8f-9d0e-2e060a42f247-c000.snappy.parquet\n",
      "-rw-r--r-- 1 manos manos 25M Mar  1 17:01 part-00003-083252c8-10c0-4e8f-9d0e-2e060a42f247-c000.snappy.parquet\n"
     ]
    }
   ],
   "source": [
    "! cd data/tmp && ls -lh"
   ]
  },
  {
   "cell_type": "code",
   "execution_count": 33,
   "id": "bd18bd35-6f65-4913-a018-fe44e4914ffd",
   "metadata": {},
   "outputs": [
    {
     "data": {
      "text/plain": [
       "StructType([StructField('VendorID', IntegerType(), True), StructField('tpep_pickup_datetime', TimestampType(), True), StructField('tpep_dropoff_datetime', TimestampType(), True), StructField('passenger_count', LongType(), True), StructField('trip_distance', DoubleType(), True), StructField('RatecodeID', LongType(), True), StructField('store_and_fwd_flag', StringType(), True), StructField('PULocationID', IntegerType(), True), StructField('DOLocationID', IntegerType(), True), StructField('payment_type', LongType(), True), StructField('fare_amount', DoubleType(), True), StructField('extra', DoubleType(), True), StructField('mta_tax', DoubleType(), True), StructField('tip_amount', DoubleType(), True), StructField('tolls_amount', DoubleType(), True), StructField('improvement_surcharge', DoubleType(), True), StructField('total_amount', DoubleType(), True), StructField('congestion_surcharge', DoubleType(), True), StructField('Airport_fee', DoubleType(), True)])"
      ]
     },
     "execution_count": 33,
     "metadata": {},
     "output_type": "execute_result"
    }
   ],
   "source": [
    "df_yellow.schema"
   ]
  },
  {
   "cell_type": "code",
   "execution_count": 34,
   "id": "b04f6f6b-f3c0-4527-a337-1bbf79efe28d",
   "metadata": {},
   "outputs": [],
   "source": [
    "from datetime import datetime\n",
    "from pyspark.sql.functions import lit\n",
    "\n",
    "filt_date_start = datetime.strptime(\"2024-10-15\" , \"%Y-%m-%d\")\n",
    "filt_date_end = datetime.strptime(\"2024-10-16\" , \"%Y-%m-%d\")"
   ]
  },
  {
   "cell_type": "code",
   "execution_count": 35,
   "id": "53a86ed7-0592-4903-9847-570d79eabc68",
   "metadata": {},
   "outputs": [
    {
     "name": "stderr",
     "output_type": "stream",
     "text": [
      "                                                                                "
     ]
    },
    {
     "data": {
      "text/plain": [
       "122561"
      ]
     },
     "execution_count": 35,
     "metadata": {},
     "output_type": "execute_result"
    }
   ],
   "source": [
    "df_yellow.filter((df_yellow.tpep_pickup_datetime>= lit(filt_date_start)) & (df_yellow.tpep_pickup_datetime<lit(filt_date_end))).count()"
   ]
  },
  {
   "cell_type": "code",
   "execution_count": 36,
   "id": "5d3fc7cb-3be5-4077-8c37-a08a7a751d89",
   "metadata": {},
   "outputs": [],
   "source": [
    "df_yellow.createOrReplaceTempView('trips_oct_2024')"
   ]
  },
  {
   "cell_type": "code",
   "execution_count": 38,
   "id": "ffbbf670-d453-4846-8d84-2cd08ccee1db",
   "metadata": {},
   "outputs": [
    {
     "name": "stderr",
     "output_type": "stream",
     "text": [
      "[Stage 37:===========================================>              (6 + 2) / 8]"
     ]
    },
    {
     "name": "stdout",
     "output_type": "stream",
     "text": [
      "+------------------+\n",
      "|longest_trip_hours|\n",
      "+------------------+\n",
      "|162.61777777777777|\n",
      "+------------------+\n",
      "\n"
     ]
    },
    {
     "name": "stderr",
     "output_type": "stream",
     "text": [
      "                                                                                "
     ]
    }
   ],
   "source": [
    "spark.sql(\"\"\"\n",
    "SELECT\n",
    "    MAX((unix_timestamp(tpep_dropoff_datetime) - unix_timestamp(tpep_pickup_datetime)) / 3600) AS longest_trip_hours\n",
    "FROM\n",
    "    trips_oct_2024\n",
    "\"\"\").show()"
   ]
  },
  {
   "cell_type": "code",
   "execution_count": 39,
   "id": "793c023c-dc91-4db1-8fca-8608799bad49",
   "metadata": {},
   "outputs": [
    {
     "name": "stdout",
     "output_type": "stream",
     "text": [
      "--2025-03-01 17:03:54--  https://d37ci6vzurychx.cloudfront.net/misc/taxi_zone_lookup.csv\n",
      "Resolving d37ci6vzurychx.cloudfront.net (d37ci6vzurychx.cloudfront.net)... 3.160.226.111, 3.160.226.161, 3.160.226.85, ...\n",
      "Connecting to d37ci6vzurychx.cloudfront.net (d37ci6vzurychx.cloudfront.net)|3.160.226.111|:443... connected.\n",
      "HTTP request sent, awaiting response... 200 OK\n",
      "Length: 12331 (12K) [text/csv]\n",
      "Saving to: ‘./data/hw/taxi_zone_lookup.csv.1’\n",
      "\n",
      "taxi_zone_lookup.cs 100%[===================>]  12.04K  --.-KB/s    in 0s      \n",
      "\n",
      "2025-03-01 17:03:54 (190 MB/s) - ‘./data/hw/taxi_zone_lookup.csv.1’ saved [12331/12331]\n",
      "\n"
     ]
    }
   ],
   "source": [
    "! wget https://d37ci6vzurychx.cloudfront.net/misc/taxi_zone_lookup.csv  -P ./data/hw\n",
    "\n"
   ]
  },
  {
   "cell_type": "code",
   "execution_count": 40,
   "id": "a465181d-3550-460f-ba1b-499735262226",
   "metadata": {},
   "outputs": [],
   "source": [
    "lookup = spark.read \\\n",
    "    .option(\"header\", \"true\") \\\n",
    "    .csv('data/hw/taxi_zone_lookup.csv')"
   ]
  },
  {
   "cell_type": "code",
   "execution_count": 42,
   "id": "23bf92ba-a244-4268-93d0-9883968bd394",
   "metadata": {},
   "outputs": [
    {
     "name": "stdout",
     "output_type": "stream",
     "text": [
      "+----------+---------+--------------------+------------+\n",
      "|LocationID|  Borough|                Zone|service_zone|\n",
      "+----------+---------+--------------------+------------+\n",
      "|         1|      EWR|      Newark Airport|         EWR|\n",
      "|         2|   Queens|         Jamaica Bay|   Boro Zone|\n",
      "|         3|    Bronx|Allerton/Pelham G...|   Boro Zone|\n",
      "|         4|Manhattan|       Alphabet City| Yellow Zone|\n",
      "+----------+---------+--------------------+------------+\n",
      "only showing top 4 rows\n",
      "\n"
     ]
    }
   ],
   "source": [
    "lookup.show(4)"
   ]
  },
  {
   "cell_type": "code",
   "execution_count": 41,
   "id": "ee15a8d9-9a6a-4762-860c-272e5057485a",
   "metadata": {},
   "outputs": [],
   "source": [
    "from pyspark.sql.functions import broadcast \n",
    "        \n",
    "broadcast_dataframe = broadcast(lookup) "
   ]
  },
  {
   "cell_type": "code",
   "execution_count": 46,
   "id": "ebc2347d-c11e-4349-baec-2b58d4412b00",
   "metadata": {},
   "outputs": [],
   "source": [
    "broadcasted_join_table = df_yellow.join(broadcast_dataframe, df_yellow.PULocationID == broadcast_dataframe.LocationID )\n"
   ]
  },
  {
   "cell_type": "code",
   "execution_count": 48,
   "id": "96e1379c-989d-46e9-91e5-ff26d8f08fa0",
   "metadata": {},
   "outputs": [
    {
     "name": "stdout",
     "output_type": "stream",
     "text": [
      "== Physical Plan ==\n",
      "AdaptiveSparkPlan isFinalPlan=false\n",
      "+- BroadcastHashJoin [PULocationID#95], [cast(LocationID#206 as int)], Inner, BuildRight, false\n",
      "   :- Exchange RoundRobinPartitioning(4), REPARTITION_BY_NUM, [plan_id=551]\n",
      "   :  +- Filter isnotnull(PULocationID#95)\n",
      "   :     +- FileScan parquet [VendorID#88,tpep_pickup_datetime#89,tpep_dropoff_datetime#90,passenger_count#91L,trip_distance#92,RatecodeID#93L,store_and_fwd_flag#94,PULocationID#95,DOLocationID#96,payment_type#97L,fare_amount#98,extra#99,mta_tax#100,tip_amount#101,tolls_amount#102,improvement_surcharge#103,total_amount#104,congestion_surcharge#105,Airport_fee#106] Batched: true, DataFilters: [isnotnull(PULocationID#95)], Format: Parquet, Location: InMemoryFileIndex(1 paths)[file:/home/manos/data-engineering-zoomcamp/05-batch/code/data/hw/yello..., PartitionFilters: [], PushedFilters: [IsNotNull(PULocationID)], ReadSchema: struct<VendorID:int,tpep_pickup_datetime:timestamp,tpep_dropoff_datetime:timestamp,passenger_coun...\n",
      "   +- BroadcastExchange HashedRelationBroadcastMode(List(cast(cast(input[0, string, false] as int) as bigint)),false), [plan_id=553]\n",
      "      +- Filter isnotnull(LocationID#206)\n",
      "         +- FileScan csv [LocationID#206,Borough#207,Zone#208,service_zone#209] Batched: false, DataFilters: [isnotnull(LocationID#206)], Format: CSV, Location: InMemoryFileIndex(1 paths)[file:/home/manos/data-engineering-zoomcamp/05-batch/code/data/hw/taxi_..., PartitionFilters: [], PushedFilters: [IsNotNull(LocationID)], ReadSchema: struct<LocationID:string,Borough:string,Zone:string,service_zone:string>\n",
      "\n",
      "\n"
     ]
    }
   ],
   "source": [
    "broadcasted_join_table.explain()"
   ]
  },
  {
   "cell_type": "code",
   "execution_count": 51,
   "id": "1ec5e3fc-0d9c-4650-b6f3-3dd74b42322f",
   "metadata": {},
   "outputs": [],
   "source": [
    "broadcasted_join_table.createOrReplaceTempView('trips_oct_2024_with_zones')"
   ]
  },
  {
   "cell_type": "code",
   "execution_count": 73,
   "id": "933d4401-b590-48b2-8342-743d4f304f91",
   "metadata": {},
   "outputs": [
    {
     "name": "stderr",
     "output_type": "stream",
     "text": [
      "                                                                                "
     ]
    },
    {
     "name": "stdout",
     "output_type": "stream",
     "text": [
      "+---------------------------------------------+----------------+\n",
      "|Zone                                         |pu_location_freq|\n",
      "+---------------------------------------------+----------------+\n",
      "|Governor's Island/Ellis Island/Liberty Island|1               |\n",
      "+---------------------------------------------+----------------+\n",
      "\n"
     ]
    }
   ],
   "source": [
    "spark.sql(\"\"\"\n",
    "WITH pu_locations_freqs AS (\n",
    "    SELECT\n",
    "        Zone,\n",
    "        COUNT(PULocationID) as pu_location_freq\n",
    "    FROM\n",
    "        trips_oct_2024_with_zones\n",
    "    GROUP BY Zone\n",
    ")\n",
    ",\n",
    "min_freq AS (\n",
    "    SELECT \n",
    "        MIN(pu_location_freq) AS min_freq \n",
    "    FROM pu_locations_freqs\n",
    ")\n",
    "\n",
    "SELECT \n",
    "    p.Zone,\n",
    "    p.pu_location_freq\n",
    "FROM pu_locations_freqs p\n",
    "JOIN min_freq m \n",
    "    ON p.pu_location_freq = m.min_freq\n",
    "\n",
    "\n",
    "\n",
    "\"\"\").show(40,truncate=False)"
   ]
  }
 ],
 "metadata": {
  "kernelspec": {
   "display_name": "Python 3 (ipykernel)",
   "language": "python",
   "name": "python3"
  },
  "language_info": {
   "codemirror_mode": {
    "name": "ipython",
    "version": 3
   },
   "file_extension": ".py",
   "mimetype": "text/x-python",
   "name": "python",
   "nbconvert_exporter": "python",
   "pygments_lexer": "ipython3",
   "version": "3.12.3"
  }
 },
 "nbformat": 4,
 "nbformat_minor": 5
}
